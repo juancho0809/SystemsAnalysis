{
  "nbformat": 4,
  "nbformat_minor": 0,
  "metadata": {
    "colab": {
      "provenance": [],
      "authorship_tag": "ABX9TyOeB5/GST/Btbm2sOdMigCj",
      "include_colab_link": true
    },
    "kernelspec": {
      "name": "python3",
      "display_name": "Python 3"
    },
    "language_info": {
      "name": "python"
    }
  },
  "cells": [
    {
      "cell_type": "markdown",
      "metadata": {
        "id": "view-in-github",
        "colab_type": "text"
      },
      "source": [
        "<a href=\"https://colab.research.google.com/github/juancho0809/SystemsAnalysis/blob/main/Workshop1/Clase1.2.ipynb\" target=\"_parent\"><img src=\"https://colab.research.google.com/assets/colab-badge.svg\" alt=\"Open In Colab\"/></a>"
      ]
    },
    {
      "cell_type": "code",
      "execution_count": null,
      "metadata": {
        "id": "de4M2J1xSN_4"
      },
      "outputs": [],
      "source": []
    },
    {
      "cell_type": "markdown",
      "source": [
        "#Workshop I - Systems Analysis\n",
        "##Workshop Definition:\n",
        "- Welcome to the first workshop of Systems Analysis course. Let’s funny me with a biological exercise.\n",
        "\n",
        "- Imagine you have been hired as data analyst in an important biotechnology company. Your boss, science chief officer, want to get some patterns in genomic data, sometimes called motifs. __check__\n",
        "\n",
        "- Here you will have some tasks in order to complete this workshop: Create a dummy database of genetic sequences composed of nucleotide bases (A, C, G, T), where each sequence must have between 10 and 20 bases. Your database must be composed for 50.000 genetic sequences. __check__\n",
        "\n",
        "- Get the motifs (must repeated sequence) of size 6 and 8. Use the Shannon Entropy measurement to filter sequences with not a good variance level. Get again the motifs of size 6 and 8.\n",
        "\n",
        "- Write some conclusions based on your analysis. Write any technical concern/decision/difficulty you think is relevant regarding your work. You must deliver a full report detailing each one of the previous steps. For steeps 1 to 4 you must describe the algorithms you propose and let an screenshot about the code and the output of the code. I strongly recommend you to use a Jupyter Notebook or a COLAB to write/execute your code.\n"
      ],
      "metadata": {
        "id": "bnPx_sVGSQ6X"
      }
    },
    {
      "cell_type": "markdown",
      "source": [
        "\n",
        "\n",
        "- Initialize the libraries we use to develop the code\n"
      ],
      "metadata": {
        "id": "arl9fs-YUfIN"
      }
    },
    {
      "cell_type": "code",
      "source": [
        "import pandas as pd\n",
        "import random\n",
        "import math\n",
        "import matplotlib.pyplot as plt"
      ],
      "metadata": {
        "id": "iphc6f7YUa7e"
      },
      "execution_count": 108,
      "outputs": []
    },
    {
      "cell_type": "markdown",
      "source": [
        "- Then, we start to make the first functions to begin the proccess"
      ],
      "metadata": {
        "id": "esHSpoWqB3hX"
      }
    },
    {
      "cell_type": "code",
      "source": [
        "\n",
        "def shannon_entropy(data_bd):\n",
        "    sequences = {}\n",
        "    for symbol in data_bd:\n",
        "        if symbol in sequences:\n",
        "            sequences[symbol] += 1\n",
        "        else:\n",
        "            sequences[symbol] = 1\n",
        "\n",
        "    probabilities = [frequency / len(data_bd) for frequency in sequences.values()]\n",
        "\n",
        "    entropy = -sum(probability * math.log2(probability) for probability in probabilities)\n",
        "\n",
        "    return entropy\n",
        "\n",
        "\n",
        "def create_sequence():\n",
        "  nucleotid_bases = ['A','C','G','T']\n",
        "  size_sequence = random.randint(10,20)\n",
        "  new_sequence = [nucleotid_bases[random.randint(0,3)] for i in range(size_sequence)]\n",
        "  #lo vuelve str\n",
        "  return \"\".join(new_sequence)\n",
        "\n",
        "def create_database():\n",
        "  db_size = 20\n",
        "  data_base = [create_sequence() for i in range(db_size)]\n",
        "  return data_base\n",
        "\n",
        "data_base = create_database()\n",
        "sequences_entropy = [shannon_entropy(sequence) for sequence in data_base]\n",
        "\n",
        "\"\"\"\n",
        "CREACION TABLA CON PLT Y PANDAS\n",
        "\"\"\"\n",
        "table = {\n",
        "    'Secuencia': data_base,\n",
        "    'Entropia': sequences_entropy\n",
        "}\n",
        "\n",
        "pf = pd.DataFrame(table)\n",
        "print(\"ANTES DE FILTRADO\")\n",
        "print(pf)\n",
        "\n",
        "filtered_sequences = [seq for seq, entropy in zip(data_base, sequences_entropy) if entropy > 1.95]\n",
        "filtered_entropies = [entropy for entropy in sequences_entropy if entropy > 1.95]\n",
        "\n",
        "# Crear el DataFrame con los datos filtrados\n",
        "table = {\n",
        "    'Secuencia': filtered_sequences,\n",
        "    'Entropia': filtered_entropies\n",
        "}\n",
        "\n",
        "pf = pd.DataFrame(table)\n",
        "\n",
        "print(\"DESPUÉS DE FILTRADO\")\n",
        "print(pf)\n",
        "\n"
      ],
      "metadata": {
        "id": "BZA0AwPgVqYA"
      },
      "execution_count": null,
      "outputs": []
    },
    {
      "cell_type": "code",
      "source": [
        "\n",
        "def get_combinations(n,sequences,bases):\n",
        "  if n == 1:\n",
        "    return [sequence+base for sequence in sequences for base in bases]\n",
        "  else:\n",
        "    sequence_ = [sequence+base for sequence in sequences for base in bases]\n",
        "    return get_combinations(n-1,sequence_ , bases)\n",
        "\n",
        "def count_motif(motif, filtered_entropies):\n",
        "  count = 0\n",
        "  for sequence in filtered_entropies:\n",
        "    count += sequence.count(motif)\n",
        "  return count\n",
        "\"\"\"sequences_db\"\"\"\n",
        "def get_motif(motif_size, filtered_entropies):\n",
        "   nucleotid_bases = ['A','C','G','T']\n",
        "   combinations = get_combinations(motif_size, [\"\"], nucleotid_bases)\n",
        "   max_counter = 0\n",
        "   motif_winner = \"\"\n",
        "   for motif_candidate in combinations:\n",
        "      temp_counter = count_motif(motif_candidate, filtered_entropies)\n",
        "      if temp_counter > max_counter:\n",
        "        max_counter = temp_counter\n",
        "        motif_winner = motif_candidate\n",
        "\n",
        "   return motif_winner, max_counter\n"
      ],
      "metadata": {
        "id": "j82svt66bdr_"
      },
      "execution_count": 157,
      "outputs": []
    },
    {
      "cell_type": "code",
      "source": [
        "print(filtered_sequences)"
      ],
      "metadata": {
        "colab": {
          "base_uri": "https://localhost:8080/"
        },
        "id": "M16IAV7VxHSb",
        "outputId": "82175eb6-50b0-46c7-c76f-430319e5f632"
      },
      "execution_count": 155,
      "outputs": [
        {
          "output_type": "stream",
          "name": "stdout",
          "text": [
            "['GATAGCGGTTAAGGTTACCT', 'TGGCTACTGGCATAGCACC', 'ATAGGTGTCGATTCCTAGA', 'CCTTAGGTTTACAGGGA']\n"
          ]
        }
      ]
    },
    {
      "cell_type": "code",
      "source": [
        "print(get_motif(6, filtered_sequences))"
      ],
      "metadata": {
        "colab": {
          "base_uri": "https://localhost:8080/"
        },
        "id": "6kBD0hJnhfmo",
        "outputId": "98a2d219-6178-47ee-d28c-3b780d66c5f6"
      },
      "execution_count": 158,
      "outputs": [
        {
          "output_type": "stream",
          "name": "stdout",
          "text": [
            "('AAAGGT', 1)\n"
          ]
        }
      ]
    }
  ]
}